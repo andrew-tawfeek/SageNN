{
 "cells": [
  {
   "cell_type": "code",
   "execution_count": 20,
   "id": "ba091f24",
   "metadata": {
    "vscode": {
     "languageId": "sage"
    }
   },
   "outputs": [],
   "source": [
    "load('ffnn.py')"
   ]
  },
  {
   "cell_type": "code",
   "execution_count": 34,
   "id": "f544cf4d",
   "metadata": {
    "vscode": {
     "languageId": "sage"
    }
   },
   "outputs": [],
   "source": [
    "N = NN([1,1], weights = [[2]], biases=[[1]])"
   ]
  },
  {
   "cell_type": "code",
   "execution_count": 35,
   "id": "3fb7ff88",
   "metadata": {
    "vscode": {
     "languageId": "sage"
    }
   },
   "outputs": [
    {
     "data": {
      "text/plain": [
       "(23)"
      ]
     },
     "execution_count": 35,
     "metadata": {},
     "output_type": "execute_result"
    }
   ],
   "source": [
    "N.forward([11])"
   ]
  },
  {
   "cell_type": "code",
   "execution_count": null,
   "id": "188059d3",
   "metadata": {
    "vscode": {
     "languageId": "sage"
    }
   },
   "outputs": [],
   "source": []
  }
 ],
 "metadata": {
  "kernelspec": {
   "display_name": "SageMath 10.3",
   "language": "sage",
   "name": "SageMath-10.3"
  },
  "language_info": {
   "codemirror_mode": {
    "name": "ipython",
    "version": 3
   },
   "file_extension": ".py",
   "mimetype": "text/x-python",
   "name": "python",
   "nbconvert_exporter": "python",
   "pygments_lexer": "ipython3",
   "version": "3.11.8"
  }
 },
 "nbformat": 4,
 "nbformat_minor": 5
}
