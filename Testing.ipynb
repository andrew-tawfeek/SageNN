{
 "cells": [
  {
   "cell_type": "code",
   "execution_count": 64,
   "id": "ba091f24",
   "metadata": {
    "vscode": {
     "languageId": "sage"
    }
   },
   "outputs": [],
   "source": [
    "load('ffnn.py')"
   ]
  },
  {
   "cell_type": "code",
   "execution_count": 74,
   "id": "f544cf4d",
   "metadata": {
    "vscode": {
     "languageId": "sage"
    }
   },
   "outputs": [],
   "source": [
    "N = NN([2,1], weights = [[2,1]], biases = None)"
   ]
  },
  {
   "cell_type": "code",
   "execution_count": 76,
   "id": "3fb7ff88",
   "metadata": {
    "vscode": {
     "languageId": "sage"
    }
   },
   "outputs": [
    {
     "data": {
      "text/plain": [
       "(5)"
      ]
     },
     "execution_count": 76,
     "metadata": {},
     "output_type": "execute_result"
    }
   ],
   "source": [
    "N.forward([1,3])"
   ]
  },
  {
   "cell_type": "code",
   "execution_count": 77,
   "id": "188059d3",
   "metadata": {
    "vscode": {
     "languageId": "sage"
    }
   },
   "outputs": [],
   "source": [
    "N.show()"
   ]
  },
  {
   "cell_type": "code",
   "execution_count": null,
   "id": "54e86b54",
   "metadata": {
    "vscode": {
     "languageId": "sage"
    }
   },
   "outputs": [
    {
     "ename": "NotImplementedError",
     "evalue": "",
     "output_type": "error",
     "traceback": [
      "\u001b[0;31m---------------------------------------------------------------------------\u001b[0m",
      "\u001b[0;31mNotImplementedError\u001b[0m                       Traceback (most recent call last)",
      "Cell \u001b[0;32mIn[79], line 3\u001b[0m\n\u001b[1;32m      1\u001b[0m \u001b[38;5;28;01mdef\u001b[39;00m \u001b[38;5;21mf\u001b[39m(x, y):\n\u001b[1;32m      2\u001b[0m     \u001b[38;5;28;01mreturn\u001b[39;00m N\u001b[38;5;241m.\u001b[39mforward([x, y])\n\u001b[0;32m----> 3\u001b[0m P \u001b[38;5;241m=\u001b[39m \u001b[43mplot3d\u001b[49m\u001b[43m(\u001b[49m\u001b[43mf\u001b[49m\u001b[43m,\u001b[49m\u001b[43m \u001b[49m\u001b[43m(\u001b[49m\u001b[38;5;241;43m-\u001b[39;49m\u001b[43mInteger\u001b[49m\u001b[43m(\u001b[49m\u001b[38;5;241;43m5\u001b[39;49m\u001b[43m)\u001b[49m\u001b[43m,\u001b[49m\u001b[43m \u001b[49m\u001b[43mInteger\u001b[49m\u001b[43m(\u001b[49m\u001b[38;5;241;43m5\u001b[39;49m\u001b[43m)\u001b[49m\u001b[43m)\u001b[49m\u001b[43m,\u001b[49m\u001b[43m \u001b[49m\u001b[43m(\u001b[49m\u001b[38;5;241;43m-\u001b[39;49m\u001b[43mInteger\u001b[49m\u001b[43m(\u001b[49m\u001b[38;5;241;43m5\u001b[39;49m\u001b[43m)\u001b[49m\u001b[43m,\u001b[49m\u001b[43m \u001b[49m\u001b[43mInteger\u001b[49m\u001b[43m(\u001b[49m\u001b[38;5;241;43m5\u001b[39;49m\u001b[43m)\u001b[49m\u001b[43m)\u001b[49m\u001b[43m,\u001b[49m\u001b[43m \u001b[49m\u001b[43madaptive\u001b[49m\u001b[38;5;241;43m=\u001b[39;49m\u001b[38;5;28;43;01mTrue\u001b[39;49;00m\u001b[43m,\u001b[49m\u001b[43m \u001b[49m\u001b[43mcolor\u001b[49m\u001b[38;5;241;43m=\u001b[39;49m\u001b[38;5;124;43m'\u001b[39;49m\u001b[38;5;124;43mred\u001b[39;49m\u001b[38;5;124;43m'\u001b[39;49m\u001b[43m)\u001b[49m\n\u001b[1;32m      4\u001b[0m \u001b[38;5;28;01mfrom\u001b[39;00m \u001b[38;5;21;01msage\u001b[39;00m\u001b[38;5;21;01m.\u001b[39;00m\u001b[38;5;21;01mplot\u001b[39;00m\u001b[38;5;21;01m.\u001b[39;00m\u001b[38;5;21;01mplot3d\u001b[39;00m\u001b[38;5;21;01m.\u001b[39;00m\u001b[38;5;21;01mplot3d\u001b[39;00m \u001b[38;5;28;01mimport\u001b[39;00m axes\n\u001b[1;32m      5\u001b[0m S \u001b[38;5;241m=\u001b[39m P \u001b[38;5;241m+\u001b[39m axes(Integer(\u001b[38;5;241m6\u001b[39m), color\u001b[38;5;241m=\u001b[39m\u001b[38;5;124m'\u001b[39m\u001b[38;5;124mblack\u001b[39m\u001b[38;5;124m'\u001b[39m)\n",
      "File \u001b[0;32m/private/var/tmp/sage-10.3-current/local/var/lib/sage/venv-python3.11.8/lib/python3.11/site-packages/sage/plot/plot3d/plot3d.py:1110\u001b[0m, in \u001b[0;36mplot3d\u001b[0;34m(f, urange, vrange, adaptive, transformation, **kwds)\u001b[0m\n\u001b[1;32m   1108\u001b[0m         \u001b[38;5;28;01mraise\u001b[39;00m \u001b[38;5;167;01mValueError\u001b[39;00m(\u001b[38;5;124m'\u001b[39m\u001b[38;5;124munknown transformation type\u001b[39m\u001b[38;5;124m'\u001b[39m)\n\u001b[1;32m   1109\u001b[0m \u001b[38;5;28;01melif\u001b[39;00m adaptive:\n\u001b[0;32m-> 1110\u001b[0m     P \u001b[38;5;241m=\u001b[39m \u001b[43mplot3d_adaptive\u001b[49m\u001b[43m(\u001b[49m\u001b[43mf\u001b[49m\u001b[43m,\u001b[49m\u001b[43m \u001b[49m\u001b[43murange\u001b[49m\u001b[43m,\u001b[49m\u001b[43m \u001b[49m\u001b[43mvrange\u001b[49m\u001b[43m,\u001b[49m\u001b[43m \u001b[49m\u001b[38;5;241;43m*\u001b[39;49m\u001b[38;5;241;43m*\u001b[39;49m\u001b[43mkwds\u001b[49m\u001b[43m)\u001b[49m\n\u001b[1;32m   1111\u001b[0m \u001b[38;5;28;01melse\u001b[39;00m:\n\u001b[1;32m   1112\u001b[0m     arg1 \u001b[38;5;241m=\u001b[39m \u001b[38;5;28;01mlambda\u001b[39;00m u,v: u\n",
      "File \u001b[0;32m/private/var/tmp/sage-10.3-current/local/var/lib/sage/venv-python3.11.8/lib/python3.11/site-packages/sage/plot/plot3d/plot3d.py:1192\u001b[0m, in \u001b[0;36mplot3d_adaptive\u001b[0;34m(f, x_range, y_range, color, grad_f, max_bend, max_depth, initial_depth, num_colors, **kwds)\u001b[0m\n\u001b[1;32m   1189\u001b[0m         texture \u001b[38;5;241m=\u001b[39m Texture(kwds)\n\u001b[1;32m   1191\u001b[0m factory \u001b[38;5;241m=\u001b[39m TrivialTriangleFactory()\n\u001b[0;32m-> 1192\u001b[0m plot \u001b[38;5;241m=\u001b[39m \u001b[43mTrianglePlot\u001b[49m\u001b[43m(\u001b[49m\u001b[43mfactory\u001b[49m\u001b[43m,\u001b[49m\u001b[43m \u001b[49m\u001b[43mg\u001b[49m\u001b[43m,\u001b[49m\u001b[43m \u001b[49m\u001b[43m(\u001b[49m\u001b[43mxmin\u001b[49m\u001b[43m,\u001b[49m\u001b[43m \u001b[49m\u001b[43mxmax\u001b[49m\u001b[43m)\u001b[49m\u001b[43m,\u001b[49m\u001b[43m \u001b[49m\u001b[43m(\u001b[49m\u001b[43mymin\u001b[49m\u001b[43m,\u001b[49m\u001b[43m \u001b[49m\u001b[43mymax\u001b[49m\u001b[43m)\u001b[49m\u001b[43m,\u001b[49m\u001b[43m \u001b[49m\u001b[43mg\u001b[49m\u001b[38;5;241;43m=\u001b[39;49m\u001b[43mgrad_f\u001b[49m\u001b[43m,\u001b[49m\n\u001b[1;32m   1193\u001b[0m \u001b[43m                    \u001b[49m\u001b[43mmin_depth\u001b[49m\u001b[38;5;241;43m=\u001b[39;49m\u001b[43minitial_depth\u001b[49m\u001b[43m,\u001b[49m\u001b[43m \u001b[49m\u001b[43mmax_depth\u001b[49m\u001b[38;5;241;43m=\u001b[39;49m\u001b[43mmax_depth\u001b[49m\u001b[43m,\u001b[49m\n\u001b[1;32m   1194\u001b[0m \u001b[43m                    \u001b[49m\u001b[43mmax_bend\u001b[49m\u001b[38;5;241;43m=\u001b[39;49m\u001b[43mmax_bend\u001b[49m\u001b[43m,\u001b[49m\u001b[43m \u001b[49m\u001b[43mnum_colors\u001b[49m\u001b[38;5;241;43m=\u001b[39;49m\u001b[38;5;28;43;01mNone\u001b[39;49;00m\u001b[43m)\u001b[49m\n\u001b[1;32m   1196\u001b[0m P \u001b[38;5;241m=\u001b[39m IndexFaceSet(plot\u001b[38;5;241m.\u001b[39m_objects)\n\u001b[1;32m   1197\u001b[0m \u001b[38;5;28;01mif\u001b[39;00m \u001b[38;5;28misinstance\u001b[39m(texture, (\u001b[38;5;28mlist\u001b[39m, \u001b[38;5;28mtuple\u001b[39m)):\n",
      "File \u001b[0;32m/private/var/tmp/sage-10.3-current/local/var/lib/sage/venv-python3.11.8/lib/python3.11/site-packages/sage/plot/plot3d/tri_plot.py:287\u001b[0m, in \u001b[0;36mTrianglePlot.__init__\u001b[0;34m(self, triangle_factory, f, min_x__max_x, min_y__max_y, g, min_depth, max_depth, num_colors, max_bend)\u001b[0m\n\u001b[1;32m    284\u001b[0m \u001b[38;5;28mself\u001b[39m\u001b[38;5;241m.\u001b[39m_max \u001b[38;5;241m=\u001b[39m \u001b[38;5;28mmax\u001b[39m(sw_z[\u001b[38;5;241m0\u001b[39m], nw_z[\u001b[38;5;241m0\u001b[39m], se_z[\u001b[38;5;241m0\u001b[39m], ne_z[\u001b[38;5;241m0\u001b[39m], mid_z[\u001b[38;5;241m0\u001b[39m])\n\u001b[1;32m    286\u001b[0m \u001b[38;5;66;03m# jump in and start building blocks\u001b[39;00m\n\u001b[0;32m--> 287\u001b[0m outer \u001b[38;5;241m=\u001b[39m \u001b[38;5;28;43mself\u001b[39;49m\u001b[38;5;241;43m.\u001b[39;49m\u001b[43mplot_block\u001b[49m\u001b[43m(\u001b[49m\u001b[43mmin_x\u001b[49m\u001b[43m,\u001b[49m\u001b[43m \u001b[49m\u001b[43mmid_x\u001b[49m\u001b[43m,\u001b[49m\u001b[43m \u001b[49m\u001b[43mmax_x\u001b[49m\u001b[43m,\u001b[49m\u001b[43m \u001b[49m\u001b[43mmin_y\u001b[49m\u001b[43m,\u001b[49m\u001b[43m \u001b[49m\u001b[43mmid_y\u001b[49m\u001b[43m,\u001b[49m\u001b[43m \u001b[49m\u001b[43mmax_y\u001b[49m\u001b[43m,\u001b[49m\u001b[43m \u001b[49m\u001b[43msw_z\u001b[49m\u001b[43m,\u001b[49m\u001b[43m \u001b[49m\u001b[43mnw_z\u001b[49m\u001b[43m,\u001b[49m\u001b[43m \u001b[49m\u001b[43mse_z\u001b[49m\u001b[43m,\u001b[49m\u001b[43m \u001b[49m\u001b[43mne_z\u001b[49m\u001b[43m,\u001b[49m\u001b[43m \u001b[49m\u001b[43mmid_z\u001b[49m\u001b[43m,\u001b[49m\u001b[43m \u001b[49m\u001b[38;5;241;43m0\u001b[39;49m\u001b[43m)\u001b[49m\n\u001b[1;32m    289\u001b[0m \u001b[38;5;66;03m# build the boundary triangles\u001b[39;00m\n\u001b[1;32m    290\u001b[0m \u001b[38;5;28mself\u001b[39m\u001b[38;5;241m.\u001b[39mtriangulate(outer\u001b[38;5;241m.\u001b[39mleft, outer\u001b[38;5;241m.\u001b[39mleft_c)\n",
      "File \u001b[0;32m/private/var/tmp/sage-10.3-current/local/var/lib/sage/venv-python3.11.8/lib/python3.11/site-packages/sage/plot/plot3d/tri_plot.py:404\u001b[0m, in \u001b[0;36mTrianglePlot.plot_block\u001b[0;34m(self, min_x, mid_x, max_x, min_y, mid_y, max_y, sw_z, nw_z, se_z, ne_z, mid_z, depth)\u001b[0m\n\u001b[1;32m    401\u001b[0m \u001b[38;5;28mself\u001b[39m\u001b[38;5;241m.\u001b[39mextrema([mid_w_z[\u001b[38;5;241m0\u001b[39m], mid_n_z[\u001b[38;5;241m0\u001b[39m], mid_e_z[\u001b[38;5;241m0\u001b[39m], mid_s_z[\u001b[38;5;241m0\u001b[39m], mid_sw_z[\u001b[38;5;241m0\u001b[39m], mid_se_z[\u001b[38;5;241m0\u001b[39m], mid_nw_z[\u001b[38;5;241m0\u001b[39m], mid_sw_z[\u001b[38;5;241m0\u001b[39m]])\n\u001b[1;32m    403\u001b[0m \u001b[38;5;66;03m# recurse into the sub-squares\u001b[39;00m\n\u001b[0;32m--> 404\u001b[0m sw \u001b[38;5;241m=\u001b[39m \u001b[38;5;28;43mself\u001b[39;49m\u001b[38;5;241;43m.\u001b[39;49m\u001b[43mplot_block\u001b[49m\u001b[43m(\u001b[49m\u001b[43mmin_x\u001b[49m\u001b[43m,\u001b[49m\u001b[43m \u001b[49m\u001b[43mqtr1_x\u001b[49m\u001b[43m,\u001b[49m\u001b[43m \u001b[49m\u001b[43mmid_x\u001b[49m\u001b[43m,\u001b[49m\u001b[43m \u001b[49m\u001b[43mmin_y\u001b[49m\u001b[43m,\u001b[49m\u001b[43m \u001b[49m\u001b[43mqtr1_y\u001b[49m\u001b[43m,\u001b[49m\u001b[43m \u001b[49m\u001b[43mmid_y\u001b[49m\u001b[43m,\u001b[49m\u001b[43m \u001b[49m\u001b[43msw_z\u001b[49m\u001b[43m,\u001b[49m\u001b[43m \u001b[49m\u001b[43mmid_w_z\u001b[49m\u001b[43m,\u001b[49m\u001b[43m \u001b[49m\u001b[43mmid_s_z\u001b[49m\u001b[43m,\u001b[49m\u001b[43m \u001b[49m\u001b[43mmid_z\u001b[49m\u001b[43m,\u001b[49m\u001b[43m \u001b[49m\u001b[43mmid_sw_z\u001b[49m\u001b[43m,\u001b[49m\u001b[43m \u001b[49m\u001b[43msw_depth\u001b[49m\u001b[43m)\u001b[49m\n\u001b[1;32m    405\u001b[0m nw \u001b[38;5;241m=\u001b[39m \u001b[38;5;28mself\u001b[39m\u001b[38;5;241m.\u001b[39mplot_block(min_x, qtr1_x, mid_x, mid_y, qtr3_y, max_y, mid_w_z, nw_z, mid_z, mid_n_z, mid_nw_z, nw_depth)\n\u001b[1;32m    406\u001b[0m se \u001b[38;5;241m=\u001b[39m \u001b[38;5;28mself\u001b[39m\u001b[38;5;241m.\u001b[39mplot_block(mid_x, qtr3_x, max_x, min_y, qtr1_y, mid_y, mid_s_z, mid_z, se_z, mid_e_z, mid_se_z, se_depth)\n",
      "File \u001b[0;32m/private/var/tmp/sage-10.3-current/local/var/lib/sage/venv-python3.11.8/lib/python3.11/site-packages/sage/plot/plot3d/tri_plot.py:404\u001b[0m, in \u001b[0;36mTrianglePlot.plot_block\u001b[0;34m(self, min_x, mid_x, max_x, min_y, mid_y, max_y, sw_z, nw_z, se_z, ne_z, mid_z, depth)\u001b[0m\n\u001b[1;32m    401\u001b[0m \u001b[38;5;28mself\u001b[39m\u001b[38;5;241m.\u001b[39mextrema([mid_w_z[\u001b[38;5;241m0\u001b[39m], mid_n_z[\u001b[38;5;241m0\u001b[39m], mid_e_z[\u001b[38;5;241m0\u001b[39m], mid_s_z[\u001b[38;5;241m0\u001b[39m], mid_sw_z[\u001b[38;5;241m0\u001b[39m], mid_se_z[\u001b[38;5;241m0\u001b[39m], mid_nw_z[\u001b[38;5;241m0\u001b[39m], mid_sw_z[\u001b[38;5;241m0\u001b[39m]])\n\u001b[1;32m    403\u001b[0m \u001b[38;5;66;03m# recurse into the sub-squares\u001b[39;00m\n\u001b[0;32m--> 404\u001b[0m sw \u001b[38;5;241m=\u001b[39m \u001b[38;5;28;43mself\u001b[39;49m\u001b[38;5;241;43m.\u001b[39;49m\u001b[43mplot_block\u001b[49m\u001b[43m(\u001b[49m\u001b[43mmin_x\u001b[49m\u001b[43m,\u001b[49m\u001b[43m \u001b[49m\u001b[43mqtr1_x\u001b[49m\u001b[43m,\u001b[49m\u001b[43m \u001b[49m\u001b[43mmid_x\u001b[49m\u001b[43m,\u001b[49m\u001b[43m \u001b[49m\u001b[43mmin_y\u001b[49m\u001b[43m,\u001b[49m\u001b[43m \u001b[49m\u001b[43mqtr1_y\u001b[49m\u001b[43m,\u001b[49m\u001b[43m \u001b[49m\u001b[43mmid_y\u001b[49m\u001b[43m,\u001b[49m\u001b[43m \u001b[49m\u001b[43msw_z\u001b[49m\u001b[43m,\u001b[49m\u001b[43m \u001b[49m\u001b[43mmid_w_z\u001b[49m\u001b[43m,\u001b[49m\u001b[43m \u001b[49m\u001b[43mmid_s_z\u001b[49m\u001b[43m,\u001b[49m\u001b[43m \u001b[49m\u001b[43mmid_z\u001b[49m\u001b[43m,\u001b[49m\u001b[43m \u001b[49m\u001b[43mmid_sw_z\u001b[49m\u001b[43m,\u001b[49m\u001b[43m \u001b[49m\u001b[43msw_depth\u001b[49m\u001b[43m)\u001b[49m\n\u001b[1;32m    405\u001b[0m nw \u001b[38;5;241m=\u001b[39m \u001b[38;5;28mself\u001b[39m\u001b[38;5;241m.\u001b[39mplot_block(min_x, qtr1_x, mid_x, mid_y, qtr3_y, max_y, mid_w_z, nw_z, mid_z, mid_n_z, mid_nw_z, nw_depth)\n\u001b[1;32m    406\u001b[0m se \u001b[38;5;241m=\u001b[39m \u001b[38;5;28mself\u001b[39m\u001b[38;5;241m.\u001b[39mplot_block(mid_x, qtr3_x, max_x, min_y, qtr1_y, mid_y, mid_s_z, mid_z, se_z, mid_e_z, mid_se_z, se_depth)\n",
      "    \u001b[0;31m[... skipping similar frames: TrianglePlot.plot_block at line 404 (1 times)]\u001b[0m\n",
      "File \u001b[0;32m/private/var/tmp/sage-10.3-current/local/var/lib/sage/venv-python3.11.8/lib/python3.11/site-packages/sage/plot/plot3d/tri_plot.py:404\u001b[0m, in \u001b[0;36mTrianglePlot.plot_block\u001b[0;34m(self, min_x, mid_x, max_x, min_y, mid_y, max_y, sw_z, nw_z, se_z, ne_z, mid_z, depth)\u001b[0m\n\u001b[1;32m    401\u001b[0m \u001b[38;5;28mself\u001b[39m\u001b[38;5;241m.\u001b[39mextrema([mid_w_z[\u001b[38;5;241m0\u001b[39m], mid_n_z[\u001b[38;5;241m0\u001b[39m], mid_e_z[\u001b[38;5;241m0\u001b[39m], mid_s_z[\u001b[38;5;241m0\u001b[39m], mid_sw_z[\u001b[38;5;241m0\u001b[39m], mid_se_z[\u001b[38;5;241m0\u001b[39m], mid_nw_z[\u001b[38;5;241m0\u001b[39m], mid_sw_z[\u001b[38;5;241m0\u001b[39m]])\n\u001b[1;32m    403\u001b[0m \u001b[38;5;66;03m# recurse into the sub-squares\u001b[39;00m\n\u001b[0;32m--> 404\u001b[0m sw \u001b[38;5;241m=\u001b[39m \u001b[38;5;28;43mself\u001b[39;49m\u001b[38;5;241;43m.\u001b[39;49m\u001b[43mplot_block\u001b[49m\u001b[43m(\u001b[49m\u001b[43mmin_x\u001b[49m\u001b[43m,\u001b[49m\u001b[43m \u001b[49m\u001b[43mqtr1_x\u001b[49m\u001b[43m,\u001b[49m\u001b[43m \u001b[49m\u001b[43mmid_x\u001b[49m\u001b[43m,\u001b[49m\u001b[43m \u001b[49m\u001b[43mmin_y\u001b[49m\u001b[43m,\u001b[49m\u001b[43m \u001b[49m\u001b[43mqtr1_y\u001b[49m\u001b[43m,\u001b[49m\u001b[43m \u001b[49m\u001b[43mmid_y\u001b[49m\u001b[43m,\u001b[49m\u001b[43m \u001b[49m\u001b[43msw_z\u001b[49m\u001b[43m,\u001b[49m\u001b[43m \u001b[49m\u001b[43mmid_w_z\u001b[49m\u001b[43m,\u001b[49m\u001b[43m \u001b[49m\u001b[43mmid_s_z\u001b[49m\u001b[43m,\u001b[49m\u001b[43m \u001b[49m\u001b[43mmid_z\u001b[49m\u001b[43m,\u001b[49m\u001b[43m \u001b[49m\u001b[43mmid_sw_z\u001b[49m\u001b[43m,\u001b[49m\u001b[43m \u001b[49m\u001b[43msw_depth\u001b[49m\u001b[43m)\u001b[49m\n\u001b[1;32m    405\u001b[0m nw \u001b[38;5;241m=\u001b[39m \u001b[38;5;28mself\u001b[39m\u001b[38;5;241m.\u001b[39mplot_block(min_x, qtr1_x, mid_x, mid_y, qtr3_y, max_y, mid_w_z, nw_z, mid_z, mid_n_z, mid_nw_z, nw_depth)\n\u001b[1;32m    406\u001b[0m se \u001b[38;5;241m=\u001b[39m \u001b[38;5;28mself\u001b[39m\u001b[38;5;241m.\u001b[39mplot_block(mid_x, qtr3_x, max_x, min_y, qtr1_y, mid_y, mid_s_z, mid_z, se_z, mid_e_z, mid_se_z, se_depth)\n",
      "File \u001b[0;32m/private/var/tmp/sage-10.3-current/local/var/lib/sage/venv-python3.11.8/lib/python3.11/site-packages/sage/plot/plot3d/tri_plot.py:362\u001b[0m, in \u001b[0;36mTrianglePlot.plot_block\u001b[0;34m(self, min_x, mid_x, max_x, min_y, mid_y, max_y, sw_z, nw_z, se_z, ne_z, mid_z, depth)\u001b[0m\n\u001b[1;32m    350\u001b[0m ne_v \u001b[38;5;241m=\u001b[39m (max_x \u001b[38;5;241m-\u001b[39m mid_x, max_y \u001b[38;5;241m-\u001b[39m mid_y, ne_z[\u001b[38;5;241m0\u001b[39m] \u001b[38;5;241m-\u001b[39m mid_z[\u001b[38;5;241m0\u001b[39m])\n\u001b[1;32m    352\u001b[0m \u001b[38;5;66;03m#compute triangle normal unit vectors by taking the cross-products\u001b[39;00m\n\u001b[1;32m    353\u001b[0m \u001b[38;5;66;03m#of the midpoint-to-corner vectors.  always go around clockwise\u001b[39;00m\n\u001b[1;32m    354\u001b[0m \u001b[38;5;66;03m#so we're guaranteed to have a positive value near 1 when neighboring\u001b[39;00m\n\u001b[0;32m   (...)\u001b[0m\n\u001b[1;32m    360\u001b[0m \u001b[38;5;66;03m#should work a bit better because of the density of floating-point\u001b[39;00m\n\u001b[1;32m    361\u001b[0m \u001b[38;5;66;03m#numbers near zero.\u001b[39;00m\n\u001b[0;32m--> 362\u001b[0m norm_w \u001b[38;5;241m=\u001b[39m \u001b[43mcrossunit\u001b[49m\u001b[43m(\u001b[49m\u001b[43msw_v\u001b[49m\u001b[43m,\u001b[49m\u001b[43m \u001b[49m\u001b[43mnw_v\u001b[49m\u001b[43m)\u001b[49m\n\u001b[1;32m    363\u001b[0m norm_n \u001b[38;5;241m=\u001b[39m crossunit(nw_v, ne_v)\n\u001b[1;32m    364\u001b[0m norm_e \u001b[38;5;241m=\u001b[39m crossunit(ne_v, se_v)\n",
      "File \u001b[0;32m/private/var/tmp/sage-10.3-current/local/var/lib/sage/venv-python3.11.8/lib/python3.11/site-packages/sage/plot/plot3d/tri_plot.py:561\u001b[0m, in \u001b[0;36mcrossunit\u001b[0;34m(u, v)\u001b[0m\n\u001b[1;32m    543\u001b[0m \u001b[38;5;250m\u001b[39m\u001b[38;5;124;03m\"\"\"\u001b[39;00m\n\u001b[1;32m    544\u001b[0m \u001b[38;5;124;03mThis function computes triangle normal unit vectors by taking the\u001b[39;00m\n\u001b[1;32m    545\u001b[0m \u001b[38;5;124;03mcross-products of the midpoint-to-corner vectors.  It always goes\u001b[39;00m\n\u001b[0;32m   (...)\u001b[0m\n\u001b[1;32m    558\u001b[0m \u001b[38;5;124;03m    (-1, 0, 0, 1.0)\u001b[39;00m\n\u001b[1;32m    559\u001b[0m \u001b[38;5;124;03m\"\"\"\u001b[39;00m\n\u001b[1;32m    560\u001b[0m p \u001b[38;5;241m=\u001b[39m (u[\u001b[38;5;241m1\u001b[39m]\u001b[38;5;241m*\u001b[39mv[\u001b[38;5;241m2\u001b[39m] \u001b[38;5;241m-\u001b[39m v[\u001b[38;5;241m1\u001b[39m]\u001b[38;5;241m*\u001b[39mu[\u001b[38;5;241m2\u001b[39m], u[\u001b[38;5;241m0\u001b[39m]\u001b[38;5;241m*\u001b[39mv[\u001b[38;5;241m2\u001b[39m] \u001b[38;5;241m-\u001b[39m v[\u001b[38;5;241m0\u001b[39m]\u001b[38;5;241m*\u001b[39mu[\u001b[38;5;241m2\u001b[39m], u[\u001b[38;5;241m0\u001b[39m]\u001b[38;5;241m*\u001b[39mv[\u001b[38;5;241m1\u001b[39m] \u001b[38;5;241m-\u001b[39m u[\u001b[38;5;241m1\u001b[39m]\u001b[38;5;241m*\u001b[39mv[\u001b[38;5;241m0\u001b[39m])\n\u001b[0;32m--> 561\u001b[0m l \u001b[38;5;241m=\u001b[39m sqrt(\u001b[43mp\u001b[49m\u001b[43m[\u001b[49m\u001b[38;5;241;43m0\u001b[39;49m\u001b[43m]\u001b[49m\u001b[38;5;241;43m*\u001b[39;49m\u001b[38;5;241;43m*\u001b[39;49m\u001b[38;5;241;43m2\u001b[39;49m \u001b[38;5;241m+\u001b[39m p[\u001b[38;5;241m1\u001b[39m]\u001b[38;5;241m*\u001b[39m\u001b[38;5;241m*\u001b[39m\u001b[38;5;241m2\u001b[39m \u001b[38;5;241m+\u001b[39m p[\u001b[38;5;241m2\u001b[39m]\u001b[38;5;241m*\u001b[39m\u001b[38;5;241m*\u001b[39m\u001b[38;5;241m2\u001b[39m)\n\u001b[1;32m    562\u001b[0m \u001b[38;5;28;01mreturn\u001b[39;00m (p[\u001b[38;5;241m0\u001b[39m], p[\u001b[38;5;241m1\u001b[39m], p[\u001b[38;5;241m2\u001b[39m], l)\n",
      "File \u001b[0;32m/private/var/tmp/sage-10.3-current/local/var/lib/sage/venv-python3.11.8/lib/python3.11/site-packages/sage/modules/free_module_element.pyx:2118\u001b[0m, in \u001b[0;36msage.modules.free_module_element.FreeModuleElement.__pow__ (build/cythonized/sage/modules/free_module_element.c:22308)\u001b[0;34m()\u001b[0m\n\u001b[1;32m   2116\u001b[0m         NotImplementedError\n\u001b[1;32m   2117\u001b[0m     \"\"\"\n\u001b[0;32m-> 2118\u001b[0m     raise NotImplementedError\n\u001b[1;32m   2119\u001b[0m \n\u001b[1;32m   2120\u001b[0m def _repr_(self):\n",
      "\u001b[0;31mNotImplementedError\u001b[0m: "
     ]
    }
   ],
   "source": [
    "def f(x, y):\n",
    "    return N.forward([x, y])[0]  # Extract the scalar value from the vector\n",
    "P = plot3d(f, (-5, 5), (-5, 5), adaptive=True, color='red')\n",
    "from sage.plot.plot3d.plot3d import axes\n",
    "S = P + axes(6, color='black')\n",
    "S.show()"
   ]
  },
  {
   "cell_type": "code",
   "execution_count": null,
   "id": "c8f28b93",
   "metadata": {
    "vscode": {
     "languageId": "sage"
    }
   },
   "outputs": [],
   "source": []
  }
 ],
 "metadata": {
  "kernelspec": {
   "display_name": "SageMath 10.3",
   "language": "sage",
   "name": "SageMath-10.3"
  },
  "language_info": {
   "codemirror_mode": {
    "name": "ipython",
    "version": 3
   },
   "file_extension": ".py",
   "mimetype": "text/x-python",
   "name": "python",
   "nbconvert_exporter": "python",
   "pygments_lexer": "ipython3",
   "version": "3.11.8"
  }
 },
 "nbformat": 4,
 "nbformat_minor": 5
}
